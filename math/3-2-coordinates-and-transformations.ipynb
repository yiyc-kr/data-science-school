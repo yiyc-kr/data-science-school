{
 "cells": [
  {
   "cell_type": "markdown",
   "metadata": {},
   "source": [
    "## 풀랭크 체크하기"
   ]
  },
  {
   "cell_type": "code",
   "execution_count": 6,
   "metadata": {},
   "outputs": [],
   "source": [
    "import numpy as np"
   ]
  },
  {
   "cell_type": "code",
   "execution_count": 2,
   "metadata": {},
   "outputs": [
    {
     "data": {
      "text/plain": [
       "array([[ 1,  5,  6],\n",
       "       [ 2,  6,  8],\n",
       "       [ 3, 11, 14],\n",
       "       [ 1,  4,  5]])"
      ]
     },
     "execution_count": 2,
     "metadata": {},
     "output_type": "execute_result"
    }
   ],
   "source": [
    "a = np.array([[1, 5, 6],\n",
    "             [2, 6, 8],\n",
    "             [3, 11, 14],\n",
    "             [1, 4, 5]])\n",
    "a"
   ]
  },
  {
   "cell_type": "code",
   "execution_count": 3,
   "metadata": {},
   "outputs": [
    {
     "data": {
      "text/plain": [
       "2"
      ]
     },
     "execution_count": 3,
     "metadata": {},
     "output_type": "execute_result"
    }
   ],
   "source": [
    "np.linalg.matrix_rank(a)"
   ]
  },
  {
   "cell_type": "markdown",
   "metadata": {},
   "source": [
    "## 이미지 변환"
   ]
  },
  {
   "cell_type": "code",
   "execution_count": 47,
   "metadata": {},
   "outputs": [],
   "source": [
    "import scipy as sp\n",
    "import scipy.misc\n",
    "import scipy.ndimage\n",
    "import matplotlib as mpl\n",
    "import matplotlib.pyplot as plt"
   ]
  },
  {
   "cell_type": "code",
   "execution_count": 3,
   "metadata": {},
   "outputs": [],
   "source": [
    "f = sp.misc.face(gray=True)"
   ]
  },
  {
   "cell_type": "code",
   "execution_count": 4,
   "metadata": {},
   "outputs": [
    {
     "data": {
      "text/plain": [
       "array([[114, 130, 145, ..., 119, 129, 137],\n",
       "       [ 83, 104, 123, ..., 118, 134, 146],\n",
       "       [ 68,  88, 109, ..., 119, 134, 145],\n",
       "       ...,\n",
       "       [ 98, 103, 116, ..., 144, 143, 143],\n",
       "       [ 94, 104, 120, ..., 143, 142, 142],\n",
       "       [ 94, 106, 119, ..., 142, 141, 140]], dtype=uint8)"
      ]
     },
     "execution_count": 4,
     "metadata": {},
     "output_type": "execute_result"
    }
   ],
   "source": [
    "f"
   ]
  },
  {
   "cell_type": "code",
   "execution_count": 37,
   "metadata": {},
   "outputs": [],
   "source": [
    "e1 = np.array([0, 1]) # matplotlib의 이미지 좌표규약으로 부호변경 \n",
    "e2 = np.array([1, 0])\n",
    "E = np.vstack([e1, e2]).T"
   ]
  },
  {
   "cell_type": "code",
   "execution_count": 38,
   "metadata": {},
   "outputs": [
    {
     "data": {
      "text/plain": [
       "array([[0, 1],\n",
       "       [1, 0]])"
      ]
     },
     "execution_count": 38,
     "metadata": {},
     "output_type": "execute_result"
    }
   ],
   "source": [
    "E"
   ]
  },
  {
   "cell_type": "code",
   "execution_count": 39,
   "metadata": {},
   "outputs": [],
   "source": [
    "g1 = np.array([1, 1]) / np.sqrt(2)\n",
    "g2 = np.array([-1, 1]) / np.sqrt(2)\n",
    "A = np.vstack([g1, g2]).T"
   ]
  },
  {
   "cell_type": "code",
   "execution_count": 40,
   "metadata": {},
   "outputs": [
    {
     "data": {
      "text/plain": [
       "array([[ 0.70710678, -0.70710678],\n",
       "       [ 0.70710678,  0.70710678]])"
      ]
     },
     "execution_count": 40,
     "metadata": {},
     "output_type": "execute_result"
    }
   ],
   "source": [
    "A"
   ]
  },
  {
   "cell_type": "code",
   "execution_count": 41,
   "metadata": {},
   "outputs": [
    {
     "data": {
      "text/plain": [
       "array([0.70710678, 0.70710678])"
      ]
     },
     "execution_count": 41,
     "metadata": {},
     "output_type": "execute_result"
    }
   ],
   "source": [
    "g1"
   ]
  },
  {
   "cell_type": "code",
   "execution_count": 42,
   "metadata": {},
   "outputs": [
    {
     "data": {
      "text/plain": [
       "array([-0.70710678,  0.70710678])"
      ]
     },
     "execution_count": 42,
     "metadata": {},
     "output_type": "execute_result"
    }
   ],
   "source": [
    "g2"
   ]
  },
  {
   "cell_type": "code",
   "execution_count": 43,
   "metadata": {
    "scrolled": true
   },
   "outputs": [
    {
     "data": {
      "text/plain": [
       "1.4142135623730951"
      ]
     },
     "execution_count": 43,
     "metadata": {},
     "output_type": "execute_result"
    }
   ],
   "source": [
    "np.sqrt(2)"
   ]
  },
  {
   "cell_type": "code",
   "execution_count": 50,
   "metadata": {},
   "outputs": [],
   "source": [
    "gc1 = E @ g1\n",
    "gc2 = E @ g2"
   ]
  },
  {
   "cell_type": "code",
   "execution_count": 64,
   "metadata": {},
   "outputs": [
    {
     "data": {
      "text/plain": [
       "array([[0, 1],\n",
       "       [1, 0]])"
      ]
     },
     "execution_count": 64,
     "metadata": {},
     "output_type": "execute_result"
    }
   ],
   "source": [
    "E"
   ]
  },
  {
   "cell_type": "code",
   "execution_count": 62,
   "metadata": {},
   "outputs": [
    {
     "data": {
      "text/plain": [
       "array([0.70710678, 0.70710678])"
      ]
     },
     "execution_count": 62,
     "metadata": {},
     "output_type": "execute_result"
    }
   ],
   "source": [
    "g1"
   ]
  },
  {
   "cell_type": "code",
   "execution_count": 63,
   "metadata": {},
   "outputs": [
    {
     "data": {
      "text/plain": [
       "array([0.70710678, 0.70710678])"
      ]
     },
     "execution_count": 63,
     "metadata": {},
     "output_type": "execute_result"
    }
   ],
   "source": [
    "gc1"
   ]
  },
  {
   "cell_type": "code",
   "execution_count": 91,
   "metadata": {},
   "outputs": [
    {
     "data": {
      "image/png": "[encoded data removed]",
      "text/plain": [
       "<Figure size 432x288 with 2 Axes>"
      ]
     },
     "metadata": {
      "needs_background": "light"
     },
     "output_type": "display_data"
    }
   ],
   "source": [
    "gray = {\"facecolor\": \"gray\"}\n",
    "black = {\"facecolor\": \"black\"}\n",
    "red = {\"facecolor\": \"red\"}\n",
    "green = {\"facecolor\": \"green\"}\n",
    "blue = {\"facecolor\": \"blue\"}\n",
    "lightgreen = {\"facecolor\": \"lightgreen\"}\n",
    "\n",
    "plt.subplot(121)\n",
    "plt.imshow(f, cmap=mpl.cm.bone, alpha=0.9)\n",
    "plt.annotate('', xy=500*e1, xytext=(0,0), arrowprops=green)\n",
    "plt.annotate('$e_1$', xy=500*e1, xytext=500*e1 + [-100,0])\n",
    "plt.annotate('', xy=500*e2, xytext=(0,0), arrowprops=green)\n",
    "plt.annotate('$e_2$', xy=500*e2, xytext=500*e2 + [0, -50])\n",
    "plt.annotate('', xy=500*gc1, xytext=(0, 0), arrowprops=red)\n",
    "plt.annotate('$g_1$', xy=500*gc1, xytext=500*gc1 + [50, -50])\n",
    "plt.annotate('', xy=500*gc2, xytext=(0, 0), arrowprops=red)\n",
    "plt.annotate('$g_2$', xy=500*gc2, xytext=500*gc2 + [50, 0])\n",
    "plt.axis(\"on\")\n",
    "plt.xlim(-200, 1500)\n",
    "plt.ylim(-100, 800)\n",
    "plt.title(\"좌표변환전\")\n",
    "\n",
    "f1 = sp.ndimage.affine_transform(f, A)\n",
    "\n",
    "plt.subplot(122)\n",
    "plt.imshow(f1, cmap=mpl.cm.bone, alpha=0.8)\n",
    "plt.annotate('', xy=500*e1, xytext=(0,0), arrowprops=red)\n",
    "plt.annotate('$g_1$', xy=500*e1, xytext=500*e1 + [-100,0])\n",
    "plt.annotate('', xy=500*e2, xytext=(0,0), arrowprops=red)\n",
    "plt.annotate('$g_2$', xy=500*e2, xytext=500*e2 + [0, -50])\n",
    "plt.axis(\"off\")\n",
    "plt.xlim(-200, 1000)\n",
    "plt.ylim(-500, 800)\n",
    "plt.title(\"좌표변환후\")\n",
    "plt.show()"
   ]
  },
  {
   "cell_type": "code",
   "execution_count": 55,
   "metadata": {},
   "outputs": [
    {
     "data": {
      "text/plain": [
       "array([0, 1])"
      ]
     },
     "execution_count": 55,
     "metadata": {},
     "output_type": "execute_result"
    }
   ],
   "source": [
    "e1"
   ]
  },
  {
   "cell_type": "code",
   "execution_count": 99,
   "metadata": {},
   "outputs": [
    {
     "data": {
      "image/png": "[encoded data removed]",
      "text/plain": [
       "<Figure size 432x288 with 1 Axes>"
      ]
     },
     "metadata": {
      "needs_background": "light"
     },
     "output_type": "display_data"
    }
   ],
   "source": [
    "f2 = sp.ndimage.affine_transform(f1, A)\n",
    "\n",
    "plt.subplot(122)\n",
    "plt.imshow(f2, cmap=mpl.cm.bone, alpha=0.8)\n",
    "plt.annotate('', xy=500*e1, xytext=(0,0), arrowprops=red)\n",
    "plt.annotate('$g_1$', xy=500*e1, xytext=500*e1 + [-100,0])\n",
    "plt.annotate('', xy=500*e2, xytext=(0,0), arrowprops=red)\n",
    "plt.annotate('$g_2$', xy=500*e2, xytext=500*e2 + [0, -50])\n",
    "plt.axis(\"on\")\n",
    "plt.xlim(-200, 1000)\n",
    "plt.ylim(800, -500)\n",
    "plt.title(\"좌표변환후\")\n",
    "plt.show()"
   ]
  },
  {
   "cell_type": "code",
   "execution_count": 100,
   "metadata": {},
   "outputs": [
    {
     "data": {
      "text/plain": [
       "array([[ 0.70710678,  0.70710678],\n",
       "       [-0.70710678,  0.70710678]])"
      ]
     },
     "execution_count": 100,
     "metadata": {},
     "output_type": "execute_result"
    }
   ],
   "source": [
    "np.linalg.inv(A)"
   ]
  },
  {
   "cell_type": "code",
   "execution_count": 101,
   "metadata": {},
   "outputs": [
    {
     "data": {
      "image/png": "[encoded data removed]",
      "text/plain": [
       "<Figure size 432x288 with 1 Axes>"
      ]
     },
     "metadata": {
      "needs_background": "light"
     },
     "output_type": "display_data"
    }
   ],
   "source": [
    "f3 = sp.ndimage.affine_transform(f2, np.linalg.inv(A))\n",
    "\n",
    "plt.subplot(122)\n",
    "plt.imshow(f3, cmap=mpl.cm.bone, alpha=0.8)\n",
    "plt.annotate('', xy=500*e1, xytext=(0,0), arrowprops=red)\n",
    "plt.annotate('$g_1$', xy=500*e1, xytext=500*e1 + [-100,0])\n",
    "plt.annotate('', xy=500*e2, xytext=(0,0), arrowprops=red)\n",
    "plt.annotate('$g_2$', xy=500*e2, xytext=500*e2 + [0, -50])\n",
    "plt.axis(\"on\")\n",
    "plt.xlim(-200, 1000)\n",
    "plt.ylim(800, -500)\n",
    "plt.title(\"좌표변환후\")\n",
    "plt.show()"
   ]
  },
  {
   "cell_type": "code",
   "execution_count": null,
   "metadata": {},
   "outputs": [],
   "source": []
  }
 ],
 "metadata": {
  "kernelspec": {
   "display_name": "Python 3",
   "language": "python",
   "name": "python3"
  },
  "language_info": {
   "codemirror_mode": {
    "name": "ipython",
    "version": 3
   },
   "file_extension": ".py",
   "mimetype": "text/x-python",
   "name": "python",
   "nbconvert_exporter": "python",
   "pygments_lexer": "ipython3",
   "version": "3.5.2"
  }
 },
 "nbformat": 4,
 "nbformat_minor": 4
}
